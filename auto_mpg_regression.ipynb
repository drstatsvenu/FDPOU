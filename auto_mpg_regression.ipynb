{
 "cells": [
  {
   "cell_type": "code",
   "execution_count": 26,
   "metadata": {
    "collapsed": true
   },
   "outputs": [],
   "source": [
    "import pandas as pd\n",
    "import matplotlib.pyplot as plt\n",
    "%matplotlib inline"
   ]
  },
  {
   "cell_type": "code",
   "execution_count": 27,
   "metadata": {
    "collapsed": true
   },
   "outputs": [],
   "source": [
    "cars_df = pd.read_csv('auto_mpg.csv')"
   ]
  },
  {
   "cell_type": "code",
   "execution_count": 28,
   "metadata": {},
   "outputs": [
    {
     "data": {
      "text/plain": [
       "(398, 9)"
      ]
     },
     "execution_count": 28,
     "metadata": {},
     "output_type": "execute_result"
    }
   ],
   "source": [
    "cars_df.shape"
   ]
  },
  {
   "cell_type": "markdown",
   "metadata": {},
   "source": [
    "There are 398 observations and 9 attributes"
   ]
  },
  {
   "cell_type": "code",
   "execution_count": 29,
   "metadata": {},
   "outputs": [
    {
     "data": {
      "text/plain": [
       "mpg             float64\n",
       "cylinders         int64\n",
       "displacement    float64\n",
       "horsepower      float64\n",
       "weight          float64\n",
       "acceleration    float64\n",
       "year              int64\n",
       "origin            int64\n",
       "name             object\n",
       "dtype: object"
      ]
     },
     "execution_count": 29,
     "metadata": {},
     "output_type": "execute_result"
    }
   ],
   "source": [
    "cars_df.dtypes"
   ]
  },
  {
   "cell_type": "markdown",
   "metadata": {},
   "source": [
    "There are 5 float attributes, 3 integer attributes and 1 string attribute"
   ]
  },
  {
   "cell_type": "code",
   "execution_count": 30,
   "metadata": {},
   "outputs": [
    {
     "data": {
      "text/html": [
       "<div>\n",
       "<style>\n",
       "    .dataframe thead tr:only-child th {\n",
       "        text-align: right;\n",
       "    }\n",
       "\n",
       "    .dataframe thead th {\n",
       "        text-align: left;\n",
       "    }\n",
       "\n",
       "    .dataframe tbody tr th {\n",
       "        vertical-align: top;\n",
       "    }\n",
       "</style>\n",
       "<table border=\"1\" class=\"dataframe\">\n",
       "  <thead>\n",
       "    <tr style=\"text-align: right;\">\n",
       "      <th></th>\n",
       "      <th>mpg</th>\n",
       "      <th>cylinders</th>\n",
       "      <th>displacement</th>\n",
       "      <th>horsepower</th>\n",
       "      <th>weight</th>\n",
       "      <th>acceleration</th>\n",
       "      <th>year</th>\n",
       "      <th>origin</th>\n",
       "      <th>name</th>\n",
       "    </tr>\n",
       "  </thead>\n",
       "  <tbody>\n",
       "    <tr>\n",
       "      <th>0</th>\n",
       "      <td>18.0</td>\n",
       "      <td>8</td>\n",
       "      <td>307.0</td>\n",
       "      <td>130.0</td>\n",
       "      <td>3504.0</td>\n",
       "      <td>12.0</td>\n",
       "      <td>1970</td>\n",
       "      <td>1</td>\n",
       "      <td>chevrolet chevelle malibu</td>\n",
       "    </tr>\n",
       "    <tr>\n",
       "      <th>1</th>\n",
       "      <td>15.0</td>\n",
       "      <td>8</td>\n",
       "      <td>350.0</td>\n",
       "      <td>165.0</td>\n",
       "      <td>3693.0</td>\n",
       "      <td>11.5</td>\n",
       "      <td>1970</td>\n",
       "      <td>1</td>\n",
       "      <td>buick skylark 320</td>\n",
       "    </tr>\n",
       "    <tr>\n",
       "      <th>2</th>\n",
       "      <td>18.0</td>\n",
       "      <td>8</td>\n",
       "      <td>318.0</td>\n",
       "      <td>150.0</td>\n",
       "      <td>3436.0</td>\n",
       "      <td>11.0</td>\n",
       "      <td>1970</td>\n",
       "      <td>1</td>\n",
       "      <td>plymouth satellite</td>\n",
       "    </tr>\n",
       "    <tr>\n",
       "      <th>3</th>\n",
       "      <td>16.0</td>\n",
       "      <td>8</td>\n",
       "      <td>304.0</td>\n",
       "      <td>150.0</td>\n",
       "      <td>3433.0</td>\n",
       "      <td>12.0</td>\n",
       "      <td>1970</td>\n",
       "      <td>1</td>\n",
       "      <td>amc rebel sst</td>\n",
       "    </tr>\n",
       "    <tr>\n",
       "      <th>4</th>\n",
       "      <td>17.0</td>\n",
       "      <td>8</td>\n",
       "      <td>302.0</td>\n",
       "      <td>140.0</td>\n",
       "      <td>3449.0</td>\n",
       "      <td>10.5</td>\n",
       "      <td>1970</td>\n",
       "      <td>1</td>\n",
       "      <td>ford torino</td>\n",
       "    </tr>\n",
       "  </tbody>\n",
       "</table>\n",
       "</div>"
      ],
      "text/plain": [
       "    mpg  cylinders  displacement  horsepower  weight  acceleration  year  \\\n",
       "0  18.0          8         307.0       130.0  3504.0          12.0  1970   \n",
       "1  15.0          8         350.0       165.0  3693.0          11.5  1970   \n",
       "2  18.0          8         318.0       150.0  3436.0          11.0  1970   \n",
       "3  16.0          8         304.0       150.0  3433.0          12.0  1970   \n",
       "4  17.0          8         302.0       140.0  3449.0          10.5  1970   \n",
       "\n",
       "   origin                       name  \n",
       "0       1  chevrolet chevelle malibu  \n",
       "1       1          buick skylark 320  \n",
       "2       1         plymouth satellite  \n",
       "3       1              amc rebel sst  \n",
       "4       1                ford torino  "
      ]
     },
     "execution_count": 30,
     "metadata": {},
     "output_type": "execute_result"
    }
   ],
   "source": [
    "cars_df.head()"
   ]
  },
  {
   "cell_type": "markdown",
   "metadata": {},
   "source": [
    "Find if any column has missing values"
   ]
  },
  {
   "cell_type": "code",
   "execution_count": 31,
   "metadata": {},
   "outputs": [
    {
     "data": {
      "text/plain": [
       "mpg             0\n",
       "cylinders       0\n",
       "displacement    0\n",
       "horsepower      6\n",
       "weight          0\n",
       "acceleration    0\n",
       "year            0\n",
       "origin          0\n",
       "name            0\n",
       "dtype: int64"
      ]
     },
     "execution_count": 31,
     "metadata": {},
     "output_type": "execute_result"
    }
   ],
   "source": [
    "cars_df.isnull().sum()"
   ]
  },
  {
   "cell_type": "markdown",
   "metadata": {},
   "source": [
    "Column 'horsepower' has 6 missing value. Replace missing values for horsepower column with mean"
   ]
  },
  {
   "cell_type": "code",
   "execution_count": 32,
   "metadata": {
    "collapsed": true
   },
   "outputs": [],
   "source": [
    "cars_df['horsepower'].fillna(value=cars_df['horsepower'].mean(skipna=True), inplace=True)"
   ]
  },
  {
   "cell_type": "markdown",
   "metadata": {},
   "source": [
    "Verify if missing values are replaced?"
   ]
  },
  {
   "cell_type": "code",
   "execution_count": 33,
   "metadata": {},
   "outputs": [
    {
     "data": {
      "text/plain": [
       "mpg             0\n",
       "cylinders       0\n",
       "displacement    0\n",
       "horsepower      0\n",
       "weight          0\n",
       "acceleration    0\n",
       "year            0\n",
       "origin          0\n",
       "name            0\n",
       "dtype: int64"
      ]
     },
     "execution_count": 33,
     "metadata": {},
     "output_type": "execute_result"
    }
   ],
   "source": [
    "cars_df.isnull().sum()"
   ]
  },
  {
   "cell_type": "markdown",
   "metadata": {},
   "source": [
    "# Univariate analysis for mpg column:"
   ]
  },
  {
   "cell_type": "code",
   "execution_count": 34,
   "metadata": {},
   "outputs": [
    {
     "data": {
      "text/plain": [
       "count    398.000000\n",
       "mean      23.514573\n",
       "std        7.815984\n",
       "min        9.000000\n",
       "25%       17.500000\n",
       "50%       23.000000\n",
       "75%       29.000000\n",
       "max       46.600000\n",
       "Name: mpg, dtype: float64"
      ]
     },
     "execution_count": 34,
     "metadata": {},
     "output_type": "execute_result"
    }
   ],
   "source": [
    "cars_df['mpg'].describe()"
   ]
  },
  {
   "cell_type": "code",
   "execution_count": 35,
   "metadata": {},
   "outputs": [
    {
     "data": {
      "image/png": "[encoded data removed]",
      "text/plain": [
       "<matplotlib.figure.Figure at 0xc3287b8>"
      ]
     },
     "metadata": {},
     "output_type": "display_data"
    }
   ],
   "source": [
    "plt.hist(cars_df['mpg'])\n",
    "plt.show()"
   ]
  },
  {
   "cell_type": "code",
   "execution_count": 36,
   "metadata": {},
   "outputs": [
    {
     "name": "stdout",
     "output_type": "stream",
     "text": [
      "Skewness: 0.457066\n",
      "Kurtosis: -0.510781\n"
     ]
    }
   ],
   "source": [
    "print(\"Skewness: %f\" % cars_df['mpg'].skew())\n",
    "print(\"Kurtosis: %f\" % cars_df['mpg'].kurt())"
   ]
  },
  {
   "cell_type": "markdown",
   "metadata": {},
   "source": [
    "## Univariate analysis for cylinders column"
   ]
  },
  {
   "cell_type": "code",
   "execution_count": 37,
   "metadata": {},
   "outputs": [
    {
     "data": {
      "text/plain": [
       "count    398.000000\n",
       "mean       5.454774\n",
       "std        1.701004\n",
       "min        3.000000\n",
       "25%        4.000000\n",
       "50%        4.000000\n",
       "75%        8.000000\n",
       "max        8.000000\n",
       "Name: cylinders, dtype: float64"
      ]
     },
     "execution_count": 37,
     "metadata": {},
     "output_type": "execute_result"
    }
   ],
   "source": [
    "cars_df['cylinders'].describe()"
   ]
  },
  {
   "cell_type": "code",
   "execution_count": 38,
   "metadata": {},
   "outputs": [
    {
     "data": {
      "text/plain": [
       "4    204\n",
       "8    103\n",
       "6     84\n",
       "3      4\n",
       "5      3\n",
       "Name: cylinders, dtype: int64"
      ]
     },
     "execution_count": 38,
     "metadata": {},
     "output_type": "execute_result"
    }
   ],
   "source": [
    "cars_df['cylinders'].value_counts()"
   ]
  },
  {
   "cell_type": "markdown",
   "metadata": {},
   "source": [
    "There are only 5 unique values for this column, so should treat it as descrete column and convert to one hot encoding."
   ]
  },
  {
   "cell_type": "code",
   "execution_count": 39,
   "metadata": {
    "collapsed": true
   },
   "outputs": [],
   "source": [
    "cars_df=pd.concat([cars_df,pd.get_dummies(cars_df['cylinders'], prefix='cylinders')],axis=1)"
   ]
  },
  {
   "cell_type": "markdown",
   "metadata": {},
   "source": [
    "# Univariate analysis for displacement column"
   ]
  },
  {
   "cell_type": "code",
   "execution_count": 40,
   "metadata": {},
   "outputs": [
    {
     "data": {
      "text/plain": [
       "count    398.000000\n",
       "mean     193.425879\n",
       "std      104.269838\n",
       "min       68.000000\n",
       "25%      104.250000\n",
       "50%      148.500000\n",
       "75%      262.000000\n",
       "max      455.000000\n",
       "Name: displacement, dtype: float64"
      ]
     },
     "execution_count": 40,
     "metadata": {},
     "output_type": "execute_result"
    }
   ],
   "source": [
    "cars_df['displacement'].describe()"
   ]
  },
  {
   "cell_type": "code",
   "execution_count": 41,
   "metadata": {},
   "outputs": [
    {
     "data": {
      "image/png": "[encoded data removed]",
      "text/plain": [
       "<matplotlib.figure.Figure at 0xc388a20>"
      ]
     },
     "metadata": {},
     "output_type": "display_data"
    }
   ],
   "source": [
    "plt.hist(cars_df['displacement'])\n",
    "plt.show()"
   ]
  },
  {
   "cell_type": "code",
   "execution_count": 42,
   "metadata": {},
   "outputs": [
    {
     "data": {
      "image/png": "[encoded data removed]",
      "text/plain": [
       "<matplotlib.figure.Figure at 0xc384198>"
      ]
     },
     "metadata": {},
     "output_type": "display_data"
    }
   ],
   "source": [
    "plt.boxplot(cars_df['displacement'])\n",
    "plt.show()"
   ]
  },
  {
   "cell_type": "markdown",
   "metadata": {},
   "source": [
    "Check if any values fall below 0.05 percentile"
   ]
  },
  {
   "cell_type": "code",
   "execution_count": 43,
   "metadata": {},
   "outputs": [
    {
     "data": {
      "text/plain": [
       "51     79.0\n",
       "53     71.0\n",
       "54     72.0\n",
       "71     70.0\n",
       "111    70.0\n",
       "117    68.0\n",
       "129    79.0\n",
       "131    71.0\n",
       "142    79.0\n",
       "144    76.0\n",
       "145    83.0\n",
       "151    79.0\n",
       "218    79.0\n",
       "243    80.0\n",
       "246    78.0\n",
       "334    70.0\n",
       "343    79.0\n",
       "345    81.0\n",
       "Name: displacement, dtype: float64"
      ]
     },
     "execution_count": 43,
     "metadata": {},
     "output_type": "execute_result"
    }
   ],
   "source": [
    "cars_df[cars_df['displacement']<cars_df['displacement'].quantile(0.05)]['displacement']"
   ]
  },
  {
   "cell_type": "markdown",
   "metadata": {},
   "source": [
    "Replace these outliers with value of 0.05 percentile value"
   ]
  },
  {
   "cell_type": "code",
   "execution_count": 44,
   "metadata": {
    "collapsed": true
   },
   "outputs": [],
   "source": [
    "cars_df.loc[cars_df['displacement']<cars_df['displacement'].quantile(0.05),['displacement']]=cars_df['displacement'].quantile(0.05)"
   ]
  },
  {
   "cell_type": "markdown",
   "metadata": {},
   "source": [
    "Similarly check if any outliers exists above 0.95 percentile value"
   ]
  },
  {
   "cell_type": "code",
   "execution_count": 45,
   "metadata": {},
   "outputs": [
    {
     "data": {
      "text/plain": [
       "5     429.0\n",
       "6     454.0\n",
       "7     440.0\n",
       "8     455.0\n",
       "13    455.0\n",
       "67    429.0\n",
       "90    429.0\n",
       "94    440.0\n",
       "95    455.0\n",
       "Name: displacement, dtype: float64"
      ]
     },
     "execution_count": 45,
     "metadata": {},
     "output_type": "execute_result"
    }
   ],
   "source": [
    "cars_df[cars_df['displacement']>cars_df['displacement'].quantile(0.95)]['displacement']"
   ]
  },
  {
   "cell_type": "markdown",
   "metadata": {},
   "source": [
    "Replace these outliers with value of 0.95 percentile value"
   ]
  },
  {
   "cell_type": "code",
   "execution_count": 46,
   "metadata": {
    "collapsed": true
   },
   "outputs": [],
   "source": [
    "cars_df.loc[cars_df['displacement']>cars_df['displacement'].quantile(0.95),['displacement']]=cars_df['displacement'].quantile(0.95)"
   ]
  },
  {
   "cell_type": "code",
   "execution_count": 47,
   "metadata": {},
   "outputs": [
    {
     "data": {
      "image/png": "[encoded data removed]",
      "text/plain": [
       "<matplotlib.figure.Figure at 0x9ee9470>"
      ]
     },
     "metadata": {},
     "output_type": "display_data"
    }
   ],
   "source": [
    "plt.boxplot(cars_df['displacement'])\n",
    "plt.show()"
   ]
  },
  {
   "cell_type": "markdown",
   "metadata": {},
   "source": [
    "# Univariate analysis for horsepower column"
   ]
  },
  {
   "cell_type": "code",
   "execution_count": 48,
   "metadata": {},
   "outputs": [
    {
     "data": {
      "text/plain": [
       "count    398.000000\n",
       "mean     104.469388\n",
       "std       38.199187\n",
       "min       46.000000\n",
       "25%       76.000000\n",
       "50%       95.000000\n",
       "75%      125.000000\n",
       "max      230.000000\n",
       "Name: horsepower, dtype: float64"
      ]
     },
     "execution_count": 48,
     "metadata": {},
     "output_type": "execute_result"
    }
   ],
   "source": [
    "cars_df['horsepower'].describe()"
   ]
  },
  {
   "cell_type": "code",
   "execution_count": 49,
   "metadata": {},
   "outputs": [
    {
     "data": {
      "image/png": "[encoded data removed]",
      "text/plain": [
       "<matplotlib.figure.Figure at 0x9eba978>"
      ]
     },
     "metadata": {},
     "output_type": "display_data"
    }
   ],
   "source": [
    "plt.hist(cars_df['horsepower'])\n",
    "plt.show()"
   ]
  },
  {
   "cell_type": "code",
   "execution_count": 50,
   "metadata": {},
   "outputs": [
    {
     "data": {
      "image/png": "[encoded data removed]",
      "text/plain": [
       "<matplotlib.figure.Figure at 0x5715c88>"
      ]
     },
     "metadata": {},
     "output_type": "display_data"
    }
   ],
   "source": [
    "plt.boxplot(cars_df['horsepower'])\n",
    "plt.show()"
   ]
  },
  {
   "cell_type": "markdown",
   "metadata": {},
   "source": [
    "Check if any values fall below 0.05 percentile"
   ]
  },
  {
   "cell_type": "code",
   "execution_count": 51,
   "metadata": {},
   "outputs": [
    {
     "data": {
      "text/plain": [
       "19     46.0\n",
       "55     60.0\n",
       "59     54.0\n",
       "102    46.0\n",
       "117    49.0\n",
       "144    52.0\n",
       "181    53.0\n",
       "195    52.0\n",
       "196    60.0\n",
       "198    53.0\n",
       "218    58.0\n",
       "244    48.0\n",
       "246    52.0\n",
       "248    60.0\n",
       "310    60.0\n",
       "325    48.0\n",
       "326    48.0\n",
       "343    58.0\n",
       "345    60.0\n",
       "394    52.0\n",
       "Name: horsepower, dtype: float64"
      ]
     },
     "execution_count": 51,
     "metadata": {},
     "output_type": "execute_result"
    }
   ],
   "source": [
    "cars_df[cars_df['horsepower']<cars_df['horsepower'].quantile(0.05)]['horsepower']"
   ]
  },
  {
   "cell_type": "markdown",
   "metadata": {},
   "source": [
    "Replace these outliers with value of 0.05 percentile value"
   ]
  },
  {
   "cell_type": "code",
   "execution_count": 52,
   "metadata": {
    "collapsed": true
   },
   "outputs": [],
   "source": [
    "cars_df.loc[cars_df['horsepower']<cars_df['horsepower'].quantile(0.05),['horsepower']]=cars_df['horsepower'].quantile(0.05)"
   ]
  },
  {
   "cell_type": "markdown",
   "metadata": {},
   "source": [
    "Similarly check if any outliers exists above 0.95 percentile value"
   ]
  },
  {
   "cell_type": "code",
   "execution_count": 53,
   "metadata": {},
   "outputs": [
    {
     "data": {
      "text/plain": [
       "5      198.0\n",
       "6      220.0\n",
       "7      215.0\n",
       "8      225.0\n",
       "9      190.0\n",
       "13     225.0\n",
       "25     215.0\n",
       "26     200.0\n",
       "27     210.0\n",
       "28     193.0\n",
       "67     208.0\n",
       "70     190.0\n",
       "90     198.0\n",
       "94     215.0\n",
       "95     225.0\n",
       "116    230.0\n",
       "231    190.0\n",
       "Name: horsepower, dtype: float64"
      ]
     },
     "execution_count": 53,
     "metadata": {},
     "output_type": "execute_result"
    }
   ],
   "source": [
    "cars_df[cars_df['horsepower']>cars_df['horsepower'].quantile(0.95)]['horsepower']"
   ]
  },
  {
   "cell_type": "markdown",
   "metadata": {},
   "source": [
    "Replace these outliers with value of 0.95 percentile value"
   ]
  },
  {
   "cell_type": "code",
   "execution_count": 54,
   "metadata": {
    "collapsed": true
   },
   "outputs": [],
   "source": [
    "cars_df.loc[cars_df['horsepower']>cars_df['horsepower'].quantile(0.95),['horsepower']]=cars_df['horsepower'].quantile(0.95)"
   ]
  },
  {
   "cell_type": "code",
   "execution_count": 55,
   "metadata": {},
   "outputs": [
    {
     "data": {
      "image/png": "[encoded data removed]",
      "text/plain": [
       "<matplotlib.figure.Figure at 0x9ede9b0>"
      ]
     },
     "metadata": {},
     "output_type": "display_data"
    }
   ],
   "source": [
    "plt.boxplot(cars_df['horsepower'])\n",
    "plt.show()"
   ]
  },
  {
   "cell_type": "markdown",
   "metadata": {},
   "source": [
    "# Univariate analysis for acceleration column"
   ]
  },
  {
   "cell_type": "code",
   "execution_count": 56,
   "metadata": {},
   "outputs": [
    {
     "data": {
      "text/plain": [
       "count    398.000000\n",
       "mean      15.568090\n",
       "std        2.757689\n",
       "min        8.000000\n",
       "25%       13.825000\n",
       "50%       15.500000\n",
       "75%       17.175000\n",
       "max       24.800000\n",
       "Name: acceleration, dtype: float64"
      ]
     },
     "execution_count": 56,
     "metadata": {},
     "output_type": "execute_result"
    }
   ],
   "source": [
    "cars_df['acceleration'].describe()"
   ]
  },
  {
   "cell_type": "code",
   "execution_count": 57,
   "metadata": {},
   "outputs": [
    {
     "data": {
      "image/png": "[encoded data removed]",
      "text/plain": [
       "<matplotlib.figure.Figure at 0xa40c1d0>"
      ]
     },
     "metadata": {},
     "output_type": "display_data"
    }
   ],
   "source": [
    "plt.hist(cars_df['acceleration'])\n",
    "plt.show()"
   ]
  },
  {
   "cell_type": "markdown",
   "metadata": {},
   "source": [
    "Replace the outliers with values of 0.05 percentile value or 0.95 percentile value"
   ]
  },
  {
   "cell_type": "code",
   "execution_count": 58,
   "metadata": {
    "collapsed": true
   },
   "outputs": [],
   "source": [
    "cars_df.loc[cars_df['acceleration']<cars_df['acceleration'].quantile(0.05),['acceleration']]=cars_df['acceleration'].quantile(0.05)\n",
    "cars_df.loc[cars_df['acceleration']>cars_df['acceleration'].quantile(0.95),['acceleration']]=cars_df['acceleration'].quantile(0.95)"
   ]
  },
  {
   "cell_type": "markdown",
   "metadata": {},
   "source": [
    "# Univariate analysis for weight column"
   ]
  },
  {
   "cell_type": "code",
   "execution_count": 59,
   "metadata": {},
   "outputs": [
    {
     "data": {
      "text/plain": [
       "count     398.000000\n",
       "mean     2970.424623\n",
       "std       846.841774\n",
       "min      1613.000000\n",
       "25%      2223.750000\n",
       "50%      2803.500000\n",
       "75%      3608.000000\n",
       "max      5140.000000\n",
       "Name: weight, dtype: float64"
      ]
     },
     "execution_count": 59,
     "metadata": {},
     "output_type": "execute_result"
    }
   ],
   "source": [
    "cars_df['weight'].describe()"
   ]
  },
  {
   "cell_type": "code",
   "execution_count": 60,
   "metadata": {},
   "outputs": [
    {
     "data": {
      "image/png": "[encoded data removed]",
      "text/plain": [
       "<matplotlib.figure.Figure at 0xc453eb8>"
      ]
     },
     "metadata": {},
     "output_type": "display_data"
    }
   ],
   "source": [
    "plt.hist(cars_df['weight'])\n",
    "plt.show()"
   ]
  },
  {
   "cell_type": "markdown",
   "metadata": {},
   "source": [
    "Replace outliers with value of 0.05 or 0.95 percentile values"
   ]
  },
  {
   "cell_type": "code",
   "execution_count": 61,
   "metadata": {
    "collapsed": true
   },
   "outputs": [],
   "source": [
    "cars_df.loc[cars_df['weight']<cars_df['weight'].quantile(0.05),['weight']]=cars_df['weight'].quantile(0.05)\n",
    "cars_df.loc[cars_df['weight']>cars_df['weight'].quantile(0.95),['weight']]=cars_df['weight'].quantile(0.95)"
   ]
  },
  {
   "cell_type": "markdown",
   "metadata": {},
   "source": [
    "# Univariate analysis for origin column"
   ]
  },
  {
   "cell_type": "code",
   "execution_count": 62,
   "metadata": {},
   "outputs": [
    {
     "data": {
      "text/plain": [
       "count    398.000000\n",
       "mean       1.572864\n",
       "std        0.802055\n",
       "min        1.000000\n",
       "25%        1.000000\n",
       "50%        1.000000\n",
       "75%        2.000000\n",
       "max        3.000000\n",
       "Name: origin, dtype: float64"
      ]
     },
     "execution_count": 62,
     "metadata": {},
     "output_type": "execute_result"
    }
   ],
   "source": [
    "cars_df['origin'].describe()"
   ]
  },
  {
   "cell_type": "code",
   "execution_count": 63,
   "metadata": {},
   "outputs": [
    {
     "data": {
      "text/plain": [
       "1    249\n",
       "3     79\n",
       "2     70\n",
       "Name: origin, dtype: int64"
      ]
     },
     "execution_count": 63,
     "metadata": {},
     "output_type": "execute_result"
    }
   ],
   "source": [
    "cars_df['origin'].value_counts()"
   ]
  },
  {
   "cell_type": "markdown",
   "metadata": {},
   "source": [
    "There are only 3 unique values for this column, so this is descrete column"
   ]
  },
  {
   "cell_type": "markdown",
   "metadata": {},
   "source": [
    "Convert this column to one-hot code values"
   ]
  },
  {
   "cell_type": "code",
   "execution_count": 64,
   "metadata": {
    "collapsed": true
   },
   "outputs": [],
   "source": [
    "cars_df=pd.concat([cars_df,pd.get_dummies(cars_df['origin'], prefix='origin')],axis=1)"
   ]
  },
  {
   "cell_type": "code",
   "execution_count": 65,
   "metadata": {},
   "outputs": [
    {
     "data": {
      "text/html": [
       "<div>\n",
       "<style>\n",
       "    .dataframe thead tr:only-child th {\n",
       "        text-align: right;\n",
       "    }\n",
       "\n",
       "    .dataframe thead th {\n",
       "        text-align: left;\n",
       "    }\n",
       "\n",
       "    .dataframe tbody tr th {\n",
       "        vertical-align: top;\n",
       "    }\n",
       "</style>\n",
       "<table border=\"1\" class=\"dataframe\">\n",
       "  <thead>\n",
       "    <tr style=\"text-align: right;\">\n",
       "      <th></th>\n",
       "      <th>mpg</th>\n",
       "      <th>cylinders</th>\n",
       "      <th>displacement</th>\n",
       "      <th>horsepower</th>\n",
       "      <th>weight</th>\n",
       "      <th>acceleration</th>\n",
       "      <th>year</th>\n",
       "      <th>origin</th>\n",
       "      <th>name</th>\n",
       "      <th>cylinders_3</th>\n",
       "      <th>cylinders_4</th>\n",
       "      <th>cylinders_5</th>\n",
       "      <th>cylinders_6</th>\n",
       "      <th>cylinders_8</th>\n",
       "      <th>origin_1</th>\n",
       "      <th>origin_2</th>\n",
       "      <th>origin_3</th>\n",
       "    </tr>\n",
       "  </thead>\n",
       "  <tbody>\n",
       "    <tr>\n",
       "      <th>0</th>\n",
       "      <td>18.0</td>\n",
       "      <td>8</td>\n",
       "      <td>307.0</td>\n",
       "      <td>130.0</td>\n",
       "      <td>3504.0</td>\n",
       "      <td>12.000</td>\n",
       "      <td>1970</td>\n",
       "      <td>1</td>\n",
       "      <td>chevrolet chevelle malibu</td>\n",
       "      <td>0</td>\n",
       "      <td>0</td>\n",
       "      <td>0</td>\n",
       "      <td>0</td>\n",
       "      <td>1</td>\n",
       "      <td>1</td>\n",
       "      <td>0</td>\n",
       "      <td>0</td>\n",
       "    </tr>\n",
       "    <tr>\n",
       "      <th>1</th>\n",
       "      <td>15.0</td>\n",
       "      <td>8</td>\n",
       "      <td>350.0</td>\n",
       "      <td>165.0</td>\n",
       "      <td>3693.0</td>\n",
       "      <td>11.500</td>\n",
       "      <td>1970</td>\n",
       "      <td>1</td>\n",
       "      <td>buick skylark 320</td>\n",
       "      <td>0</td>\n",
       "      <td>0</td>\n",
       "      <td>0</td>\n",
       "      <td>0</td>\n",
       "      <td>1</td>\n",
       "      <td>1</td>\n",
       "      <td>0</td>\n",
       "      <td>0</td>\n",
       "    </tr>\n",
       "    <tr>\n",
       "      <th>2</th>\n",
       "      <td>18.0</td>\n",
       "      <td>8</td>\n",
       "      <td>318.0</td>\n",
       "      <td>150.0</td>\n",
       "      <td>3436.0</td>\n",
       "      <td>11.285</td>\n",
       "      <td>1970</td>\n",
       "      <td>1</td>\n",
       "      <td>plymouth satellite</td>\n",
       "      <td>0</td>\n",
       "      <td>0</td>\n",
       "      <td>0</td>\n",
       "      <td>0</td>\n",
       "      <td>1</td>\n",
       "      <td>1</td>\n",
       "      <td>0</td>\n",
       "      <td>0</td>\n",
       "    </tr>\n",
       "    <tr>\n",
       "      <th>3</th>\n",
       "      <td>16.0</td>\n",
       "      <td>8</td>\n",
       "      <td>304.0</td>\n",
       "      <td>150.0</td>\n",
       "      <td>3433.0</td>\n",
       "      <td>12.000</td>\n",
       "      <td>1970</td>\n",
       "      <td>1</td>\n",
       "      <td>amc rebel sst</td>\n",
       "      <td>0</td>\n",
       "      <td>0</td>\n",
       "      <td>0</td>\n",
       "      <td>0</td>\n",
       "      <td>1</td>\n",
       "      <td>1</td>\n",
       "      <td>0</td>\n",
       "      <td>0</td>\n",
       "    </tr>\n",
       "    <tr>\n",
       "      <th>4</th>\n",
       "      <td>17.0</td>\n",
       "      <td>8</td>\n",
       "      <td>302.0</td>\n",
       "      <td>140.0</td>\n",
       "      <td>3449.0</td>\n",
       "      <td>11.285</td>\n",
       "      <td>1970</td>\n",
       "      <td>1</td>\n",
       "      <td>ford torino</td>\n",
       "      <td>0</td>\n",
       "      <td>0</td>\n",
       "      <td>0</td>\n",
       "      <td>0</td>\n",
       "      <td>1</td>\n",
       "      <td>1</td>\n",
       "      <td>0</td>\n",
       "      <td>0</td>\n",
       "    </tr>\n",
       "  </tbody>\n",
       "</table>\n",
       "</div>"
      ],
      "text/plain": [
       "    mpg  cylinders  displacement  horsepower  weight  acceleration  year  \\\n",
       "0  18.0          8         307.0       130.0  3504.0        12.000  1970   \n",
       "1  15.0          8         350.0       165.0  3693.0        11.500  1970   \n",
       "2  18.0          8         318.0       150.0  3436.0        11.285  1970   \n",
       "3  16.0          8         304.0       150.0  3433.0        12.000  1970   \n",
       "4  17.0          8         302.0       140.0  3449.0        11.285  1970   \n",
       "\n",
       "   origin                       name  cylinders_3  cylinders_4  cylinders_5  \\\n",
       "0       1  chevrolet chevelle malibu            0            0            0   \n",
       "1       1          buick skylark 320            0            0            0   \n",
       "2       1         plymouth satellite            0            0            0   \n",
       "3       1              amc rebel sst            0            0            0   \n",
       "4       1                ford torino            0            0            0   \n",
       "\n",
       "   cylinders_6  cylinders_8  origin_1  origin_2  origin_3  \n",
       "0            0            1         1         0         0  \n",
       "1            0            1         1         0         0  \n",
       "2            0            1         1         0         0  \n",
       "3            0            1         1         0         0  \n",
       "4            0            1         1         0         0  "
      ]
     },
     "execution_count": 65,
     "metadata": {},
     "output_type": "execute_result"
    }
   ],
   "source": [
    "cars_df.head()"
   ]
  },
  {
   "cell_type": "markdown",
   "metadata": {},
   "source": [
    "Univariate analysis for column year"
   ]
  },
  {
   "cell_type": "code",
   "execution_count": 66,
   "metadata": {},
   "outputs": [
    {
     "data": {
      "text/plain": [
       "count     398.000000\n",
       "mean     1976.010050\n",
       "std         3.697627\n",
       "min      1970.000000\n",
       "25%      1973.000000\n",
       "50%      1976.000000\n",
       "75%      1979.000000\n",
       "max      1982.000000\n",
       "Name: year, dtype: float64"
      ]
     },
     "execution_count": 66,
     "metadata": {},
     "output_type": "execute_result"
    }
   ],
   "source": [
    "cars_df['year'].describe()"
   ]
  },
  {
   "cell_type": "code",
   "execution_count": 67,
   "metadata": {},
   "outputs": [
    {
     "data": {
      "text/plain": [
       "1973    40\n",
       "1978    36\n",
       "1976    34\n",
       "1982    31\n",
       "1975    30\n",
       "1981    29\n",
       "1980    29\n",
       "1979    29\n",
       "1970    29\n",
       "1977    28\n",
       "1972    28\n",
       "1971    28\n",
       "1974    27\n",
       "Name: year, dtype: int64"
      ]
     },
     "execution_count": 67,
     "metadata": {},
     "output_type": "execute_result"
    }
   ],
   "source": [
    "cars_df['year'].value_counts()"
   ]
  },
  {
   "cell_type": "markdown",
   "metadata": {},
   "source": [
    "As the year is not numeric, we should covert to categorical"
   ]
  },
  {
   "cell_type": "code",
   "execution_count": 68,
   "metadata": {
    "collapsed": true
   },
   "outputs": [],
   "source": [
    "cars_df=pd.concat([cars_df,pd.get_dummies(cars_df['year'], prefix='year')],axis=1)"
   ]
  },
  {
   "cell_type": "markdown",
   "metadata": {},
   "source": [
    "Univariate analysis for 'name' column"
   ]
  },
  {
   "cell_type": "code",
   "execution_count": 69,
   "metadata": {},
   "outputs": [
    {
     "data": {
      "text/plain": [
       "ford pinto                         6\n",
       "ford maverick                      5\n",
       "toyota corolla                     5\n",
       "amc matador                        5\n",
       "chevrolet chevette                 4\n",
       "chevrolet impala                   4\n",
       "amc gremlin                        4\n",
       "amc hornet                         4\n",
       "peugeot 504                        4\n",
       "toyota corona                      4\n",
       "ford galaxie 500                   3\n",
       "chevrolet caprice classic          3\n",
       "honda civic                        3\n",
       "volkswagen dasher                  3\n",
       "pontiac catalina                   3\n",
       "ford gran torino                   3\n",
       "plymouth fury iii                  3\n",
       "chevrolet citation                 3\n",
       "plymouth duster                    3\n",
       "dodge colt                         3\n",
       "chevrolet nova                     3\n",
       "chevrolet vega                     3\n",
       "ford country squire (sw)           2\n",
       "volkswagen rabbit                  2\n",
       "datsun 710                         2\n",
       "ford gran torino (sw)              2\n",
       "opel manta                         2\n",
       "dodge aspen                        2\n",
       "chevrolet malibu                   2\n",
       "chevrolet monte carlo landau       2\n",
       "                                  ..\n",
       "honda prelude                      1\n",
       "plymouth horizon 4                 1\n",
       "plymouth volare premier v8         1\n",
       "dodge aries wagon (sw)             1\n",
       "renault 12 (sw)                    1\n",
       "chevroelt chevelle malibu          1\n",
       "chevrolet woody                    1\n",
       "ford granada ghia                  1\n",
       "dodge rampage                      1\n",
       "ford country                       1\n",
       "dodge aspen 6                      1\n",
       "oldsmobile cutlass supreme         1\n",
       "vw rabbit c (diesel)               1\n",
       "mazda glc                          1\n",
       "volvo 145e (sw)                    1\n",
       "hi 1200d                           1\n",
       "buick regal sport coupe (turbo)    1\n",
       "chrysler lebaron medallion         1\n",
       "datsun 510 (sw)                    1\n",
       "plymouth fury gran sedan           1\n",
       "plymouth satellite custom          1\n",
       "oldsmobile vista cruiser           1\n",
       "chrysler newport royal             1\n",
       "chevrolet concours                 1\n",
       "amc hornet sportabout (sw)         1\n",
       "dodge colt hardtop                 1\n",
       "volkswagen jetta                   1\n",
       "chevrolet malibu classic (sw)      1\n",
       "toyota celica gt liftback          1\n",
       "dodge aspen se                     1\n",
       "Name: name, Length: 305, dtype: int64"
      ]
     },
     "execution_count": 69,
     "metadata": {},
     "output_type": "execute_result"
    }
   ],
   "source": [
    "cars_df['name'].value_counts()"
   ]
  },
  {
   "cell_type": "markdown",
   "metadata": {},
   "source": [
    "Out of 398 observations, this column has 305 unique values. This is not helpful for model. So, drop this column."
   ]
  },
  {
   "cell_type": "code",
   "execution_count": 70,
   "metadata": {
    "collapsed": true
   },
   "outputs": [],
   "source": [
    "cars_df.drop(['name'],axis=1,inplace=True)"
   ]
  },
  {
   "cell_type": "code",
   "execution_count": 71,
   "metadata": {
    "collapsed": true
   },
   "outputs": [],
   "source": [
    "feature_cols = ['displacement', 'horsepower', 'weight',\n",
    "       'acceleration', 'cylinders_3', 'cylinders_4',\n",
    "       'cylinders_5', 'cylinders_6', 'cylinders_8', 'origin_1', 'origin_2',\n",
    "       'origin_3', 'year_1970', 'year_1971', 'year_1972', 'year_1973',\n",
    "       'year_1974', 'year_1975', 'year_1976', 'year_1977', 'year_1978',\n",
    "       'year_1979', 'year_1980', 'year_1981', 'year_1982']\n",
    "target_col = 'mpg'"
   ]
  },
  {
   "cell_type": "markdown",
   "metadata": {},
   "source": [
    "# Split the data into train and test sets"
   ]
  },
  {
   "cell_type": "code",
   "execution_count": 79,
   "metadata": {},
   "outputs": [],
   "source": [
    "from sklearn.model_selection import train_test_split\n",
    "X_train, X_test, y_train, y_test = train_test_split(cars_df[feature_cols], cars_df[target_col], test_size=0.1, random_state=100)"
   ]
  },
  {
   "cell_type": "markdown",
   "metadata": {},
   "source": [
    "# Linear regression"
   ]
  },
  {
   "cell_type": "code",
   "execution_count": 80,
   "metadata": {},
   "outputs": [],
   "source": [
    "import statsmodels.api as sm\n",
    "Xc = sm.add_constant(X_train)\n",
    "linear_regression = sm.OLS(y_train,Xc)\n",
    "fitted_model = linear_regression.fit()"
   ]
  },
  {
   "cell_type": "code",
   "execution_count": 81,
   "metadata": {},
   "outputs": [
    {
     "data": {
      "text/html": [
       "<table class=\"simpletable\">\n",
       "<caption>OLS Regression Results</caption>\n",
       "<tr>\n",
       "  <th>Dep. Variable:</th>           <td>mpg</td>       <th>  R-squared:         </th> <td>   0.880</td> \n",
       "</tr>\n",
       "<tr>\n",
       "  <th>Model:</th>                   <td>OLS</td>       <th>  Adj. R-squared:    </th> <td>   0.872</td> \n",
       "</tr>\n",
       "<tr>\n",
       "  <th>Method:</th>             <td>Least Squares</td>  <th>  F-statistic:       </th> <td>   111.5</td> \n",
       "</tr>\n",
       "<tr>\n",
       "  <th>Date:</th>             <td>Tue, 14 Aug 2018</td> <th>  Prob (F-statistic):</th> <td>1.28e-139</td>\n",
       "</tr>\n",
       "<tr>\n",
       "  <th>Time:</th>                 <td>15:28:27</td>     <th>  Log-Likelihood:    </th> <td> -869.53</td> \n",
       "</tr>\n",
       "<tr>\n",
       "  <th>No. Observations:</th>      <td>   358</td>      <th>  AIC:               </th> <td>   1785.</td> \n",
       "</tr>\n",
       "<tr>\n",
       "  <th>Df Residuals:</th>          <td>   335</td>      <th>  BIC:               </th> <td>   1874.</td> \n",
       "</tr>\n",
       "<tr>\n",
       "  <th>Df Model:</th>              <td>    22</td>      <th>                     </th>     <td> </td>    \n",
       "</tr>\n",
       "<tr>\n",
       "  <th>Covariance Type:</th>      <td>nonrobust</td>    <th>                     </th>     <td> </td>    \n",
       "</tr>\n",
       "</table>\n",
       "<table class=\"simpletable\">\n",
       "<tr>\n",
       "        <td></td>          <th>coef</th>     <th>std err</th>      <th>t</th>      <th>P>|t|</th>  <th>[0.025</th>    <th>0.975]</th>  \n",
       "</tr>\n",
       "<tr>\n",
       "  <th>const</th>        <td>   27.4532</td> <td>    1.397</td> <td>   19.646</td> <td> 0.000</td> <td>   24.704</td> <td>   30.202</td>\n",
       "</tr>\n",
       "<tr>\n",
       "  <th>displacement</th> <td>    0.0059</td> <td>    0.008</td> <td>    0.758</td> <td> 0.449</td> <td>   -0.009</td> <td>    0.021</td>\n",
       "</tr>\n",
       "<tr>\n",
       "  <th>horsepower</th>   <td>   -0.0522</td> <td>    0.015</td> <td>   -3.413</td> <td> 0.001</td> <td>   -0.082</td> <td>   -0.022</td>\n",
       "</tr>\n",
       "<tr>\n",
       "  <th>weight</th>       <td>   -0.0055</td> <td>    0.001</td> <td>   -7.458</td> <td> 0.000</td> <td>   -0.007</td> <td>   -0.004</td>\n",
       "</tr>\n",
       "<tr>\n",
       "  <th>acceleration</th> <td>   -0.0602</td> <td>    0.102</td> <td>   -0.589</td> <td> 0.556</td> <td>   -0.261</td> <td>    0.141</td>\n",
       "</tr>\n",
       "<tr>\n",
       "  <th>cylinders_3</th>  <td>   -0.4011</td> <td>    1.351</td> <td>   -0.297</td> <td> 0.767</td> <td>   -3.058</td> <td>    2.256</td>\n",
       "</tr>\n",
       "<tr>\n",
       "  <th>cylinders_4</th>  <td>    6.8545</td> <td>    0.564</td> <td>   12.143</td> <td> 0.000</td> <td>    5.744</td> <td>    7.965</td>\n",
       "</tr>\n",
       "<tr>\n",
       "  <th>cylinders_5</th>  <td>    7.0788</td> <td>    1.500</td> <td>    4.720</td> <td> 0.000</td> <td>    4.129</td> <td>   10.029</td>\n",
       "</tr>\n",
       "<tr>\n",
       "  <th>cylinders_6</th>  <td>    5.4369</td> <td>    0.652</td> <td>    8.340</td> <td> 0.000</td> <td>    4.155</td> <td>    6.719</td>\n",
       "</tr>\n",
       "<tr>\n",
       "  <th>cylinders_8</th>  <td>    8.4841</td> <td>    1.117</td> <td>    7.594</td> <td> 0.000</td> <td>    6.286</td> <td>   10.682</td>\n",
       "</tr>\n",
       "<tr>\n",
       "  <th>origin_1</th>     <td>    7.7632</td> <td>    0.583</td> <td>   13.316</td> <td> 0.000</td> <td>    6.616</td> <td>    8.910</td>\n",
       "</tr>\n",
       "<tr>\n",
       "  <th>origin_2</th>     <td>    9.5712</td> <td>    0.551</td> <td>   17.378</td> <td> 0.000</td> <td>    8.488</td> <td>   10.655</td>\n",
       "</tr>\n",
       "<tr>\n",
       "  <th>origin_3</th>     <td>   10.1188</td> <td>    0.533</td> <td>   18.967</td> <td> 0.000</td> <td>    9.069</td> <td>   11.168</td>\n",
       "</tr>\n",
       "<tr>\n",
       "  <th>year_1970</th>    <td>   -0.9437</td> <td>    0.620</td> <td>   -1.521</td> <td> 0.129</td> <td>   -2.164</td> <td>    0.277</td>\n",
       "</tr>\n",
       "<tr>\n",
       "  <th>year_1971</th>    <td>   -0.1140</td> <td>    0.561</td> <td>   -0.203</td> <td> 0.839</td> <td>   -1.217</td> <td>    0.989</td>\n",
       "</tr>\n",
       "<tr>\n",
       "  <th>year_1972</th>    <td>   -1.0904</td> <td>    0.570</td> <td>   -1.913</td> <td> 0.057</td> <td>   -2.212</td> <td>    0.031</td>\n",
       "</tr>\n",
       "<tr>\n",
       "  <th>year_1973</th>    <td>   -1.4160</td> <td>    0.506</td> <td>   -2.796</td> <td> 0.005</td> <td>   -2.412</td> <td>   -0.420</td>\n",
       "</tr>\n",
       "<tr>\n",
       "  <th>year_1974</th>    <td>    0.4581</td> <td>    0.570</td> <td>    0.804</td> <td> 0.422</td> <td>   -0.663</td> <td>    1.579</td>\n",
       "</tr>\n",
       "<tr>\n",
       "  <th>year_1975</th>    <td>    0.1023</td> <td>    0.565</td> <td>    0.181</td> <td> 0.856</td> <td>   -1.009</td> <td>    1.214</td>\n",
       "</tr>\n",
       "<tr>\n",
       "  <th>year_1976</th>    <td>    0.7573</td> <td>    0.521</td> <td>    1.454</td> <td> 0.147</td> <td>   -0.267</td> <td>    1.782</td>\n",
       "</tr>\n",
       "<tr>\n",
       "  <th>year_1977</th>    <td>    2.3247</td> <td>    0.568</td> <td>    4.092</td> <td> 0.000</td> <td>    1.207</td> <td>    3.442</td>\n",
       "</tr>\n",
       "<tr>\n",
       "  <th>year_1978</th>    <td>    2.2228</td> <td>    0.491</td> <td>    4.522</td> <td> 0.000</td> <td>    1.256</td> <td>    3.190</td>\n",
       "</tr>\n",
       "<tr>\n",
       "  <th>year_1979</th>    <td>    4.1032</td> <td>    0.563</td> <td>    7.282</td> <td> 0.000</td> <td>    2.995</td> <td>    5.212</td>\n",
       "</tr>\n",
       "<tr>\n",
       "  <th>year_1980</th>    <td>    8.0829</td> <td>    0.561</td> <td>   14.402</td> <td> 0.000</td> <td>    6.979</td> <td>    9.187</td>\n",
       "</tr>\n",
       "<tr>\n",
       "  <th>year_1981</th>    <td>    5.8444</td> <td>    0.554</td> <td>   10.549</td> <td> 0.000</td> <td>    4.755</td> <td>    6.934</td>\n",
       "</tr>\n",
       "<tr>\n",
       "  <th>year_1982</th>    <td>    7.1215</td> <td>    0.554</td> <td>   12.846</td> <td> 0.000</td> <td>    6.031</td> <td>    8.212</td>\n",
       "</tr>\n",
       "</table>\n",
       "<table class=\"simpletable\">\n",
       "<tr>\n",
       "  <th>Omnibus:</th>       <td>27.674</td> <th>  Durbin-Watson:     </th> <td>   1.976</td>\n",
       "</tr>\n",
       "<tr>\n",
       "  <th>Prob(Omnibus):</th> <td> 0.000</td> <th>  Jarque-Bera (JB):  </th> <td>  54.292</td>\n",
       "</tr>\n",
       "<tr>\n",
       "  <th>Skew:</th>          <td> 0.440</td> <th>  Prob(JB):          </th> <td>1.62e-12</td>\n",
       "</tr>\n",
       "<tr>\n",
       "  <th>Kurtosis:</th>      <td> 4.693</td> <th>  Cond. No.          </th> <td>2.28e+19</td>\n",
       "</tr>\n",
       "</table>"
      ],
      "text/plain": [
       "<class 'statsmodels.iolib.summary.Summary'>\n",
       "\"\"\"\n",
       "                            OLS Regression Results                            \n",
       "==============================================================================\n",
       "Dep. Variable:                    mpg   R-squared:                       0.880\n",
       "Model:                            OLS   Adj. R-squared:                  0.872\n",
       "Method:                 Least Squares   F-statistic:                     111.5\n",
       "Date:                Tue, 14 Aug 2018   Prob (F-statistic):          1.28e-139\n",
       "Time:                        15:28:27   Log-Likelihood:                -869.53\n",
       "No. Observations:                 358   AIC:                             1785.\n",
       "Df Residuals:                     335   BIC:                             1874.\n",
       "Df Model:                          22                                         \n",
       "Covariance Type:            nonrobust                                         \n",
       "================================================================================\n",
       "                   coef    std err          t      P>|t|      [0.025      0.975]\n",
       "--------------------------------------------------------------------------------\n",
       "const           27.4532      1.397     19.646      0.000      24.704      30.202\n",
       "displacement     0.0059      0.008      0.758      0.449      -0.009       0.021\n",
       "horsepower      -0.0522      0.015     -3.413      0.001      -0.082      -0.022\n",
       "weight          -0.0055      0.001     -7.458      0.000      -0.007      -0.004\n",
       "acceleration    -0.0602      0.102     -0.589      0.556      -0.261       0.141\n",
       "cylinders_3     -0.4011      1.351     -0.297      0.767      -3.058       2.256\n",
       "cylinders_4      6.8545      0.564     12.143      0.000       5.744       7.965\n",
       "cylinders_5      7.0788      1.500      4.720      0.000       4.129      10.029\n",
       "cylinders_6      5.4369      0.652      8.340      0.000       4.155       6.719\n",
       "cylinders_8      8.4841      1.117      7.594      0.000       6.286      10.682\n",
       "origin_1         7.7632      0.583     13.316      0.000       6.616       8.910\n",
       "origin_2         9.5712      0.551     17.378      0.000       8.488      10.655\n",
       "origin_3        10.1188      0.533     18.967      0.000       9.069      11.168\n",
       "year_1970       -0.9437      0.620     -1.521      0.129      -2.164       0.277\n",
       "year_1971       -0.1140      0.561     -0.203      0.839      -1.217       0.989\n",
       "year_1972       -1.0904      0.570     -1.913      0.057      -2.212       0.031\n",
       "year_1973       -1.4160      0.506     -2.796      0.005      -2.412      -0.420\n",
       "year_1974        0.4581      0.570      0.804      0.422      -0.663       1.579\n",
       "year_1975        0.1023      0.565      0.181      0.856      -1.009       1.214\n",
       "year_1976        0.7573      0.521      1.454      0.147      -0.267       1.782\n",
       "year_1977        2.3247      0.568      4.092      0.000       1.207       3.442\n",
       "year_1978        2.2228      0.491      4.522      0.000       1.256       3.190\n",
       "year_1979        4.1032      0.563      7.282      0.000       2.995       5.212\n",
       "year_1980        8.0829      0.561     14.402      0.000       6.979       9.187\n",
       "year_1981        5.8444      0.554     10.549      0.000       4.755       6.934\n",
       "year_1982        7.1215      0.554     12.846      0.000       6.031       8.212\n",
       "==============================================================================\n",
       "Omnibus:                       27.674   Durbin-Watson:                   1.976\n",
       "Prob(Omnibus):                  0.000   Jarque-Bera (JB):               54.292\n",
       "Skew:                           0.440   Prob(JB):                     1.62e-12\n",
       "Kurtosis:                       4.693   Cond. No.                     2.28e+19\n",
       "==============================================================================\n",
       "\n",
       "Warnings:\n",
       "[1] Standard Errors assume that the covariance matrix of the errors is correctly specified.\n",
       "[2] The smallest eigenvalue is 6.52e-30. This might indicate that there are\n",
       "strong multicollinearity problems or that the design matrix is singular.\n",
       "\"\"\""
      ]
     },
     "execution_count": 81,
     "metadata": {},
     "output_type": "execute_result"
    }
   ],
   "source": [
    "fitted_model.summary()"
   ]
  },
  {
   "cell_type": "code",
   "execution_count": 82,
   "metadata": {
    "collapsed": true
   },
   "outputs": [],
   "source": [
    "pred_train_mpg=fitted_model.predict(Xc)"
   ]
  },
  {
   "cell_type": "code",
   "execution_count": 83,
   "metadata": {
    "collapsed": true
   },
   "outputs": [],
   "source": [
    "X_testc = sm.add_constant(X_test)\n",
    "pred_test_mpg=fitted_model.predict(X_testc)"
   ]
  },
  {
   "cell_type": "markdown",
   "metadata": {},
   "source": [
    "# Calculate R2 score"
   ]
  },
  {
   "cell_type": "code",
   "execution_count": 84,
   "metadata": {
    "collapsed": true
   },
   "outputs": [],
   "source": [
    "from sklearn.metrics import r2_score"
   ]
  },
  {
   "cell_type": "code",
   "execution_count": 85,
   "metadata": {},
   "outputs": [
    {
     "name": "stdout",
     "output_type": "stream",
     "text": [
      "R square for train: 0.879874334028\n",
      "R square for test: 0.836001769806\n"
     ]
    }
   ],
   "source": [
    "print('R square for train:', r2_score(y_train,pred_train_mpg))\n",
    "print('R square for test:', r2_score(y_test,pred_test_mpg))"
   ]
  },
  {
   "cell_type": "code",
   "execution_count": null,
   "metadata": {
    "collapsed": true
   },
   "outputs": [],
   "source": []
  }
 ],
 "metadata": {
  "kernelspec": {
   "display_name": "Python 3",
   "language": "python",
   "name": "python3"
  },
  "language_info": {
   "codemirror_mode": {
    "name": "ipython",
    "version": 3
   },
   "file_extension": ".py",
   "mimetype": "text/x-python",
   "name": "python",
   "nbconvert_exporter": "python",
   "pygments_lexer": "ipython3",
   "version": "3.6.3"
  }
 },
 "nbformat": 4,
 "nbformat_minor": 2
}
