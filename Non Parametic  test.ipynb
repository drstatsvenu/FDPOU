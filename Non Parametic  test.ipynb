{
 "cells": [
  {
   "cell_type": "code",
   "execution_count": 1,
   "metadata": {},
   "outputs": [
    {
     "name": "stdout",
     "output_type": "stream",
     "text": [
      "4077.0\n",
      "0.0120972583688\n"
     ]
    }
   ],
   "source": [
    "#The Mann-Whitney U test is a nonparametric statistical significance test for determining\n",
    "#whether two independent samples were drawn from a population with the same distribution\n",
    "# example of the mann-whitney u test\n",
    "from numpy.random import seed\n",
    "from numpy.random import rand\n",
    "from scipy.stats import mannwhitneyu\n",
    "# seed the random number generator\n",
    "seed(1)\n",
    "# generate two independent samples\n",
    "data1 = 50 + (rand(100) * 10)\n",
    "data2 = 51 + (rand(100) * 10)\n",
    "# compare samples\n",
    "stat, p = mannwhitneyu(data1, data2)\n",
    "print(stat)\n",
    "print(p)"
   ]
  },
  {
   "cell_type": "code",
   "execution_count": 2,
   "metadata": {},
   "outputs": [
    {
     "name": "stdout",
     "output_type": "stream",
     "text": [
      "1937.0\n",
      "0.0432037351795\n"
     ]
    }
   ],
   "source": [
    "#Wilcoxon Signed-Rank Test\n",
    "#The Wilcoxon signed ranks test is a nonparametric statistical procedure for comparing\n",
    "#two samples that are paired, or related. The parametric equivalent to the Wilcoxon\n",
    "#signed ranks test goes by names such as the Studentâ€™s t-test, t-test for matched\n",
    "#pairs, t-test for paired samples, or t-test for dependent samples\n",
    "\n",
    "# example of the wilcoxon signed-rank test\n",
    "from numpy.random import seed\n",
    "from numpy.random import rand\n",
    "from scipy.stats import wilcoxon\n",
    "# seed the random number generator\n",
    "seed(1)\n",
    "# generate two independent samples\n",
    "data1 = 50 + (rand(100) * 10)\n",
    "data2 = 51 + (rand(100) * 10)\n",
    "# compare samples\n",
    "stat, p = wilcoxon(data1, data2)\n",
    "print(stat)\n",
    "print(p)"
   ]
  },
  {
   "cell_type": "code",
   "execution_count": 3,
   "metadata": {},
   "outputs": [
    {
     "name": "stdout",
     "output_type": "stream",
     "text": [
      "34.7465488372\n",
      "2.85024890441e-08\n"
     ]
    }
   ],
   "source": [
    "\n",
    "#Kruskal-Wallis H Test\n",
    "from numpy.random import seed\n",
    "from numpy.random import rand\n",
    "from scipy.stats import kruskal\n",
    "# seed the random number generator\n",
    "seed(1)\n",
    "# generate three independent samples\n",
    "data1 = 50 + (rand(100) * 10)\n",
    "data2 = 51 + (rand(100) * 10)\n",
    "data3 = 52 + (rand(100) * 10)\n",
    "# compare samples\n",
    "stat, p = kruskal(data1, data2, data3)\n",
    "print(stat)\n",
    "print(p)\n"
   ]
  },
  {
   "cell_type": "code",
   "execution_count": 4,
   "metadata": {},
   "outputs": [
    {
     "name": "stdout",
     "output_type": "stream",
     "text": [
      "36.24\n",
      "1.35077802864e-08\n"
     ]
    }
   ],
   "source": [
    "# Frieman test\n",
    "\n",
    "# example of the friedman test\n",
    "from numpy.random import seed\n",
    "from numpy.random import rand\n",
    "from scipy.stats import friedmanchisquare\n",
    "# seed the random number generator\n",
    "seed(1)\n",
    "# generate three independent samples\n",
    "data1 = 50 + (rand(100) * 10)\n",
    "data2 = 51 + (rand(100) * 10)\n",
    "data3 = 52 + (rand(100) * 10)\n",
    "# compare samples\n",
    "stat, p = friedmanchisquare(data1, data2, data3)\n",
    "print(stat)\n",
    "print(p)\n",
    "\n"
   ]
  },
  {
   "cell_type": "code",
   "execution_count": 5,
   "metadata": {},
   "outputs": [
    {
     "name": "stdout",
     "output_type": "stream",
     "text": [
      "[[10, 20, 30], [6, 9, 17]]\n",
      "[[ 10.43478261  18.91304348  30.65217391]\n",
      " [  5.56521739  10.08695652  16.34782609]]\n",
      "0.87302828338\n"
     ]
    }
   ],
   "source": [
    "from scipy.stats import chi2_contingency\n",
    "from scipy.stats import chi2\n",
    "# contingency table\n",
    "table = [ [10, 20, 30],\n",
    "[6, 9, 17]]\n",
    "print(table)\n",
    "stat, p, dof, expected = chi2_contingency(table)\n",
    "print(expected)\n",
    "print(p)"
   ]
  },
  {
   "cell_type": "code",
   "execution_count": 6,
   "metadata": {
    "collapsed": true
   },
   "outputs": [],
   "source": [
    "#Importing libraries\n",
    "import pandas as pd\n",
    "import numpy as np\n",
    "import scipy.stats as stats\n",
    "from scipy.stats import chisquare\n",
    "#Importing data\n",
    "data = pd.read_csv(\"chi_square.csv\")\n",
    "#Printing\n",
    "data\n",
    "#Calculating t-statistic and p-value of the chi square test\n",
    "t_statistic, p_value = chisquare(f_obs= data['Observed'],f_exp=data['Expected'])"
   ]
  },
  {
   "cell_type": "code",
   "execution_count": null,
   "metadata": {
    "collapsed": true
   },
   "outputs": [],
   "source": []
  }
 ],
 "metadata": {
  "kernelspec": {
   "display_name": "Python 3",
   "language": "python",
   "name": "python3"
  },
  "language_info": {
   "codemirror_mode": {
    "name": "ipython",
    "version": 3
   },
   "file_extension": ".py",
   "mimetype": "text/x-python",
   "name": "python",
   "nbconvert_exporter": "python",
   "pygments_lexer": "ipython3",
   "version": "3.6.3"
  }
 },
 "nbformat": 4,
 "nbformat_minor": 2
}
